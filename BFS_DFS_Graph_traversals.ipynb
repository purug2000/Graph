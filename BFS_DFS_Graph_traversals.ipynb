{
 "cells": [
  {
   "cell_type": "markdown",
   "metadata": {},
   "source": [
    "The Below function mark_component() marks nodes of a connected sections of a graph without using recursion."
   ]
  },
  {
   "cell_type": "code",
   "execution_count": 15,
   "metadata": {},
   "outputs": [
    {
     "name": "stdout",
     "output_type": "stream",
     "text": [
      "3\n"
     ]
    }
   ],
   "source": [
    "def mark_component(G, node, marked):\n",
    "    marked[node] = True\n",
    "    open_list=[node]\n",
    "    total_marked = 1\n",
    "    while len(open_list)>0:\n",
    "        current=open_list.pop()\n",
    "        for neighbor in G[current]:\n",
    "            if neighbor not in marked:\n",
    "                total_marked=total_marked+ 1\n",
    "                marked[neighbor]=True\n",
    "                open_list.append(neighbor)\n",
    "    return total_marked\n",
    "\n",
    "#########\n",
    "# Code for testing\n",
    "#\n",
    "def make_link(G, node1, node2):\n",
    "    if node1 not in G:\n",
    "        G[node1] = {}\n",
    "    (G[node1])[node2] = 1\n",
    "    if node2 not in G:\n",
    "        G[node2] = {}\n",
    "    (G[node2])[node1] = 1\n",
    "    return G\n",
    "\n",
    "def test():\n",
    "    test_edges = [(1, 2), (2, 3), (4, 5), (5, 6)]\n",
    "    G = {}\n",
    "    for n1, n2 in test_edges:\n",
    "        make_link(G, n1, n2)\n",
    "    marked = {}\n",
    "    print mark_component(G,1,marked)\n",
    "    marked={}\n",
    "    assert mark_component(G, 1, marked) == 3\n",
    "    assert 1 in marked\n",
    "    assert 2 in marked\n",
    "    assert 3 in marked\n",
    "    assert 4 not in marked\n",
    "    assert 5 not in marked\n",
    "    assert 6 not in marked\n",
    "test()"
   ]
  },
  {
   "cell_type": "markdown",
   "metadata": {},
   "source": [
    "Self-Explanatory"
   ]
  },
  {
   "cell_type": "code",
   "execution_count": 12,
   "metadata": {},
   "outputs": [
    {
     "name": "stdout",
     "output_type": "stream",
     "text": [
      "3\n",
      "6\n"
     ]
    }
   ],
   "source": [
    "#\n",
    "# Write centrality_max to return the maximum distance\n",
    "# from a node to all the other nodes it can reach\n",
    "#\n",
    "\n",
    "def centrality_max(G, v):\n",
    "    # your code here\n",
    "    marked={}\n",
    "    marked[v]=False\n",
    "    open_list=[v]\n",
    "    distance={}\n",
    "    distance[v]=0\n",
    "    while len(open_list)>0:\n",
    "        current=open_list[0]\n",
    "        del open_list[0]\n",
    "        for n in G[current]:\n",
    "            if n not in marked:\n",
    "                marked[n]=True\n",
    "                open_list.append(n)\n",
    "                distance[n]=distance[current]+1\n",
    "    maxkey= max(distance.keys(),key=(lambda k: distance[k]))\n",
    "    return distance[maxkey]\n",
    "#################\n",
    "# Testing code\n",
    "#\n",
    "def make_link(G, node1, node2):\n",
    "    if node1 not in G:\n",
    "        G[node1] = {}\n",
    "    (G[node1])[node2] = 1\n",
    "    if node2 not in G:\n",
    "        G[node2] = {}\n",
    "    (G[node2])[node1] = 1\n",
    "    return G\n",
    "\n",
    "def test():\n",
    "    chain = ((1,2), (2,3), (3,4), (4,5), (5,6))\n",
    "    G = {}\n",
    "    for n1, n2 in chain:\n",
    "        make_link(G, n1, n2)\n",
    "    print centrality_max(G,3)\n",
    "    assert centrality_max(G, 1) == 5\n",
    "    assert centrality_max(G, 3) == 3\n",
    "    tree = ((1, 2), (1, 3),\n",
    "            (2, 4), (2, 5),\n",
    "            (3, 6), (3, 7),\n",
    "            (4, 8), (4, 9),\n",
    "            (6, 10), (6, 11))\n",
    "    G = {}\n",
    "    for n1, n2 in tree:\n",
    "        make_link(G, n1, n2)\n",
    "    print centrality_max(G,11)\n",
    "\n",
    "    assert centrality_max(G, 1) == 3\n",
    "    assert centrality_max(G, 11) == 6\n",
    "test()"
   ]
  },
  {
   "cell_type": "code",
   "execution_count": null,
   "metadata": {},
   "outputs": [],
   "source": []
  }
 ],
 "metadata": {
  "kernelspec": {
   "display_name": "Python 2",
   "language": "python",
   "name": "python2"
  }
 },
 "nbformat": 4,
 "nbformat_minor": 2
}
